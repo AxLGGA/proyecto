{
 "cells": [
  {
   "cell_type": "markdown",
   "id": "8873a296-1353-4ba9-8d70-7b8c1f9a189f",
   "metadata": {},
   "source": [
    "<div class=\"alert alert-block alert-success\">\n",
    "\n",
    "# Proyecto.\n",
    "\n",
    "Usando la información del archivo `personal_data.csv` crear una aplicación que pregunte el ID del paciente y genere la siguiente salida:\n",
    "\n",
    "<img src=\"../figuras/proyecto.png\" width=350px>\n",
    "\n",
    "</div>"
   ]
  },
  {
   "cell_type": "code",
   "execution_count": 17,
   "id": "8f3ef88a-9269-4fc3-bfcd-089e6620361e",
   "metadata": {},
   "outputs": [
    {
     "name": "stdout",
     "output_type": "stream",
     "text": [
      "――――――――――――――――――――――――――――――――――――――――――――――――――\n",
      "                   Sistema XYZ                    \n",
      "――――――――――――――――――――――――――――――――――――――――――――――――――\n"
     ]
    },
    {
     "name": "stdin",
     "output_type": "stream",
     "text": [
      "ID. pacientes (separados por coma):  6,10\n"
     ]
    },
    {
     "name": "stdout",
     "output_type": "stream",
     "text": [
      "――――――――――――――――――――――――――――――――――――――――――――――――――\n",
      "                      Paciente :   6  \n",
      "                          Sexo :   m  \n",
      "                          Edad :  68  \n",
      "                          Peso :  99  \n",
      "                      Estatura : 1.58 \n",
      "\u001b[31m\u001b[1m                           IMC : 39.66\u001b[0m\n",
      "\u001b[31m\u001b[1m                      Diabetes :  Si  \u001b[0m\n",
      "                  Hipertensión :  No  \n",
      "\u001b[31m\u001b[1m                     Depresión :  Si  \u001b[0m\n",
      "           Trastorno del sueño :  No  \n",
      "\u001b[31m\u001b[1m  Trastorno de la alimentación :  Si  \u001b[0m\n",
      "――――――――――――――――――――――――――――――――――――――――――――――――――\n",
      "                      Paciente :  10  \n",
      "                          Sexo :   m  \n",
      "                          Edad :  66  \n",
      "                          Peso :  68  \n",
      "                      Estatura : 1.51 \n",
      "                           IMC : 29.82\n",
      "                      Diabetes :  No  \n",
      "                  Hipertensión :  No  \n",
      "                     Depresión :  No  \n",
      "           Trastorno del sueño :  No  \n",
      "  Trastorno de la alimentación :  No  \n",
      "――――――――――――――――――――――――――――――――――――――――――――――――――\n"
     ]
    }
   ],
   "source": [
    "import proyecto\n",
    "proyecto.ejecutar()"
   ]
  },
  {
   "cell_type": "markdown",
   "id": "4b3dfa15-921c-4e81-b89e-47e053e4037d",
   "metadata": {},
   "source": [
    "# Colorama\n",
    "\n",
    "Biblioteca para colorear la salida (https://pypi.org/project/colorama/)"
   ]
  },
  {
   "cell_type": "code",
   "execution_count": 2,
   "id": "db8c4517-8404-4dbd-8efa-a47815de162e",
   "metadata": {},
   "outputs": [],
   "source": [
    "from colorama import Fore, Style"
   ]
  },
  {
   "cell_type": "markdown",
   "id": "22645cba-7523-4697-ba87-77a3cd3611ad",
   "metadata": {},
   "source": [
    "## Función para la lectura de datos."
   ]
  },
  {
   "cell_type": "code",
   "execution_count": 3,
   "id": "7c60927a-e756-4d54-8281-103bf9f54972",
   "metadata": {},
   "outputs": [],
   "source": [
    "def obtener_datos_entrada():\n",
    "    IDs = input(\"ID. pacientes (separados por coma): \").split(',')\n",
    "\n",
    "    # Convertir entrada a enteros\n",
    "    for i, v in enumerate(IDs):\n",
    "        IDs[i] = int(IDs[i])\n",
    "\n",
    "    # Regresa una lista ordenada y sin repeticiones, de los ID\n",
    "    return list(IDs)"
   ]
  },
  {
   "cell_type": "code",
   "execution_count": 4,
   "id": "6dd8c121-5875-44a7-b3d4-e3bb866eca83",
   "metadata": {},
   "outputs": [
    {
     "name": "stdin",
     "output_type": "stream",
     "text": [
      "ID. pacientes (separados por coma):  6,10\n"
     ]
    },
    {
     "data": {
      "text/plain": [
       "[6, 10]"
      ]
     },
     "execution_count": 4,
     "metadata": {},
     "output_type": "execute_result"
    }
   ],
   "source": [
    "# Probar la función 'lectura_datos()'\n",
    "obtener_datos_entrada()"
   ]
  },
  {
   "cell_type": "markdown",
   "id": "d3bcc766-2446-4800-a8fe-615c76514407",
   "metadata": {},
   "source": [
    "## Función para desplegar la pantalla inicial."
   ]
  },
  {
   "cell_type": "code",
   "execution_count": 5,
   "id": "00984ef8-60cd-4ce6-bd06-17bcc18cce3f",
   "metadata": {},
   "outputs": [],
   "source": [
    "def desplegar_pantalla_inicio():\n",
    "    lineac = 50 * chr(0x2015)\n",
    "    \n",
    "    print(lineac)\n",
    "    print(\"Sistema XYZ\".center(50))\n",
    "    print(lineac)\n",
    "\n",
    "    # Se leen los datos de la pantalla\n",
    "    IDs = obtener_datos_entrada()\n",
    "    \n",
    "    print(lineac)\n",
    "    \n",
    "    return IDs"
   ]
  },
  {
   "cell_type": "code",
   "execution_count": 6,
   "id": "d342df74-526a-4168-97d6-e745b9cbc3a0",
   "metadata": {},
   "outputs": [
    {
     "name": "stdout",
     "output_type": "stream",
     "text": [
      "――――――――――――――――――――――――――――――――――――――――――――――――――\n",
      "                   Sistema XYZ                    \n",
      "――――――――――――――――――――――――――――――――――――――――――――――――――\n"
     ]
    },
    {
     "name": "stdin",
     "output_type": "stream",
     "text": [
      "ID. pacientes (separados por coma):  6,10\n"
     ]
    },
    {
     "name": "stdout",
     "output_type": "stream",
     "text": [
      "――――――――――――――――――――――――――――――――――――――――――――――――――\n"
     ]
    },
    {
     "data": {
      "text/plain": [
       "[6, 10]"
      ]
     },
     "execution_count": 6,
     "metadata": {},
     "output_type": "execute_result"
    }
   ],
   "source": [
    "# Probar la función 'pantalla_inicio()'\n",
    "desplegar_pantalla_inicio()"
   ]
  },
  {
   "cell_type": "markdown",
   "id": "f965e999-5d52-4ea5-bbcb-1e222a4216e6",
   "metadata": {},
   "source": [
    "## Funciones para abrir y cerrar el archivo de datos"
   ]
  },
  {
   "cell_type": "code",
   "execution_count": 7,
   "id": "5e1b3914-5ead-401a-a6ae-55ef8f4cf4fb",
   "metadata": {},
   "outputs": [],
   "source": [
    "def abrir_archivo(nombre = \"../lecciones/personal_data.csv\"):\n",
    "    f = open(nombre, \"r\")\n",
    "    # Extraemos encabezado en forma de lista\n",
    "    e = f.readline().strip().split(',')\n",
    "    # Regresamos el descriptor del archivo y el encabezado\n",
    "    return f, e\n",
    "\n",
    "def cerrar_archivo(f):\n",
    "    f.close()"
   ]
  },
  {
   "cell_type": "code",
   "execution_count": 8,
   "id": "3ee96c36-8a90-4e67-8173-37f2494089b9",
   "metadata": {},
   "outputs": [
    {
     "data": {
      "text/plain": [
       "(<_io.TextIOWrapper name='../lecciones/personal_data.csv' mode='r' encoding='UTF-8'>,\n",
       " ['Pa', 'S', 'E', 'Pe', 'A', 'IMC', 'Di', 'H', 'De', 'TS', 'TA'])"
      ]
     },
     "execution_count": 8,
     "metadata": {},
     "output_type": "execute_result"
    }
   ],
   "source": [
    "# Probar las funciones 'abrir_archivo()' y 'cerrar_archivo()'\n",
    "abrir_archivo()"
   ]
  },
  {
   "cell_type": "code",
   "execution_count": 9,
   "id": "3b4ca416-ee41-46ba-a699-84c07b688769",
   "metadata": {},
   "outputs": [],
   "source": [
    "cerrar_archivo(abrir_archivo()[0])"
   ]
  },
  {
   "cell_type": "markdown",
   "id": "6620baa9-384a-43b5-a424-f8c3d4b4bbea",
   "metadata": {},
   "source": [
    "## Función para leer la información del archivo"
   ]
  },
  {
   "cell_type": "code",
   "execution_count": 10,
   "id": "a201ddd5-4ee4-4e92-8142-1ab0b952af9c",
   "metadata": {},
   "outputs": [],
   "source": [
    "def leer_archivo(IDs):\n",
    "    lineac = 50 * chr(0x2015)\n",
    "\n",
    "    # Abrimos el archivo y obtenemos el encabezado\n",
    "    f, encabezado = abrir_archivo()\n",
    "\n",
    "    # Construimos una lista vacía para almacenar \n",
    "    # la información de los IDs solicitados\n",
    "    IDs_lista = []\n",
    "\n",
    "    # Recorremos todo el archivo\n",
    "    for i, r in enumerate(f, start=1):\n",
    "\n",
    "        # Checamos si el id está en la lista de los solicitados\n",
    "        if i in IDs:\n",
    "\n",
    "            # En caso de que si sea uno de los solicitados\n",
    "            # vaciamos la información en un diccionario\n",
    "            dicc = transformar_datos(r, encabezado)\n",
    "        \n",
    "            # Presentamos la información en la pantalla\n",
    "            # con el formato requerido\n",
    "            desplegar_datos(dicc)\n",
    "\n",
    "            print(lineac)\n",
    "\n",
    "    # Cerramos el archivo\n",
    "    cerrar_archivo(f)"
   ]
  },
  {
   "cell_type": "markdown",
   "id": "bfc67de6-cebb-4acf-a07a-64c78df4d499",
   "metadata": {},
   "source": [
    "## Función para transformar la info a diccionario"
   ]
  },
  {
   "cell_type": "code",
   "execution_count": 11,
   "id": "f0ab8f24-3a04-4158-9ee0-8adaf0dd4ccb",
   "metadata": {},
   "outputs": [],
   "source": [
    "def transformar_datos(r, e):\n",
    "    # Diccionario vacío para almancenar la información\n",
    "    dicc = {}\n",
    "\n",
    "    # Recorremos el renglón y extraemos el key y el value\n",
    "    for k, v in zip(e, r.split(',')):\n",
    "        dicc[k] = v # Agregamos la info al diccionario\n",
    "\n",
    "    # Corregimos la entrada 'TA' (para quitarle el cambio de línea)\n",
    "    dicc['TA'] = v[:-1]\n",
    "\n",
    "    # Regresamos el diccionario con la información\n",
    "    return dicc"
   ]
  },
  {
   "cell_type": "markdown",
   "id": "0d517a29-35c4-4446-abac-a230df93d2e1",
   "metadata": {},
   "source": [
    "## Función para desplegar la información"
   ]
  },
  {
   "cell_type": "code",
   "execution_count": 12,
   "id": "3b5b5fd1-7b60-4c87-9ee2-48cf9e85d3ef",
   "metadata": {},
   "outputs": [],
   "source": [
    "def desplegar_datos(d):\n",
    "    # Diccionario para los textos\n",
    "    dicc_e = dict(Pa = \"Paciente\", \n",
    "                  S = \"Sexo\",\n",
    "                  E = \"Edad\",\n",
    "                  Pe = \"Peso\",\n",
    "                  A = \"Estatura\",\n",
    "                  IMC = \"IMC\",\n",
    "                  Di = \"Diabetes\",\n",
    "                  H = \"Hipertensión\",\n",
    "                  De = \"Depresión\",\n",
    "                  TS = \"Trastorno del sueño\",\n",
    "                  TA = \"Trastorno de la alimentación\"\n",
    "                 )\n",
    "\n",
    "    # Recorremos el diccionario con la información\n",
    "    for k, v in d.items():\n",
    "        # Checamos el IMC\n",
    "        v_imc = ''\n",
    "        if k == 'IMC':\n",
    "            v_imc = calcular_nivel_IMC(float(v))\n",
    "\n",
    "        # Checamos si hay alguna alerta de salud\n",
    "        if v == 'Si' or v_imc == 'N4':            \n",
    "            print(Fore.RED + Style.BRIGHT + \\\n",
    "                  \"{:>30s} : {:^5s}\".format(dicc_e[k], str(v)) + \\\n",
    "                  Style.RESET_ALL)\n",
    "        else:\n",
    "            print(\"{:>30s} : {:^5s}\".format(dicc_e[k], str(v)))"
   ]
  },
  {
   "cell_type": "markdown",
   "id": "b4069916-f08f-477e-89ea-48c3e05c6f45",
   "metadata": {},
   "source": [
    "## Función para determinar el nivel de IMC"
   ]
  },
  {
   "cell_type": "code",
   "execution_count": 13,
   "id": "6555691f-5d48-44eb-a3a5-5710b8cd7cf3",
   "metadata": {},
   "outputs": [],
   "source": [
    "def calcular_nivel_IMC(imc):\n",
    "    if 18.5 > imc:\n",
    "        nivel = 'N1'\n",
    "    elif 18.5 <= imc and imc < 25.0:\n",
    "        nivel = 'N2'\n",
    "    elif 25.0 <= imc and imc < 30.0:\n",
    "        nivel = 'N3'\n",
    "    elif 30.0 <= imc:\n",
    "        nivel = 'N4'\n",
    "    return nivel"
   ]
  },
  {
   "cell_type": "markdown",
   "id": "fa318a9c-cffe-4bb9-812b-6252cc6af4bc",
   "metadata": {},
   "source": [
    "## Ejecución"
   ]
  },
  {
   "cell_type": "code",
   "execution_count": 14,
   "id": "c0f0510e-b75b-40a1-bea6-8bcdd1e1fd89",
   "metadata": {},
   "outputs": [
    {
     "name": "stdout",
     "output_type": "stream",
     "text": [
      "――――――――――――――――――――――――――――――――――――――――――――――――――\n",
      "                   Sistema XYZ                    \n",
      "――――――――――――――――――――――――――――――――――――――――――――――――――\n"
     ]
    },
    {
     "name": "stdin",
     "output_type": "stream",
     "text": [
      "ID. pacientes (separados por coma):  6,10\n"
     ]
    },
    {
     "name": "stdout",
     "output_type": "stream",
     "text": [
      "――――――――――――――――――――――――――――――――――――――――――――――――――\n",
      "                      Paciente :   6  \n",
      "                          Sexo :   m  \n",
      "                          Edad :  68  \n",
      "                          Peso :  99  \n",
      "                      Estatura : 1.58 \n",
      "\u001b[31m\u001b[1m                           IMC : 39.66\u001b[0m\n",
      "\u001b[31m\u001b[1m                      Diabetes :  Si  \u001b[0m\n",
      "                  Hipertensión :  No  \n",
      "\u001b[31m\u001b[1m                     Depresión :  Si  \u001b[0m\n",
      "           Trastorno del sueño :  No  \n",
      "\u001b[31m\u001b[1m  Trastorno de la alimentación :  Si  \u001b[0m\n",
      "――――――――――――――――――――――――――――――――――――――――――――――――――\n",
      "                      Paciente :  10  \n",
      "                          Sexo :   m  \n",
      "                          Edad :  66  \n",
      "                          Peso :  68  \n",
      "                      Estatura : 1.51 \n",
      "                           IMC : 29.82\n",
      "                      Diabetes :  No  \n",
      "                  Hipertensión :  No  \n",
      "                     Depresión :  No  \n",
      "           Trastorno del sueño :  No  \n",
      "  Trastorno de la alimentación :  No  \n",
      "――――――――――――――――――――――――――――――――――――――――――――――――――\n"
     ]
    }
   ],
   "source": [
    "from colorama import Fore, Style\n",
    "\n",
    "def obtener_datos_entrada():\n",
    "    IDs = input(\"ID. pacientes (separados por coma): \").split(',')\n",
    "\n",
    "    # Convertir entrada a enteros\n",
    "    for i, v in enumerate(IDs):\n",
    "        IDs[i] = int(IDs[i])\n",
    "\n",
    "    # Regresa una lista ordenada y sin repeticiones, de los ID\n",
    "    return list(IDs)\n",
    "\n",
    "def desplegar_pantalla_inicio():\n",
    "    lineac = 50 * chr(0x2015)\n",
    "    \n",
    "    print(lineac)\n",
    "    print(\"Sistema XYZ\".center(50))\n",
    "    print(lineac)\n",
    "\n",
    "    # Se leen los datos de la pantalla\n",
    "    IDs = obtener_datos_entrada()\n",
    "    \n",
    "    print(lineac)\n",
    "    \n",
    "    return IDs\n",
    "\n",
    "def abrir_archivo(nombre = \"../lecciones/personal_data.csv\"):\n",
    "    f = open(nombre)\n",
    "\n",
    "    # Extraemos encabezado en forma de lista\n",
    "    e = f.readline().split(',')\n",
    "\n",
    "    # Eliminamos el '\\n' (el último caracter) del último elemento\n",
    "    e[-1] = e[-1][:-1]\n",
    "\n",
    "    # Regresamos el descriptor del archivo y el encabezado\n",
    "    return f, e\n",
    "\n",
    "def cerrar_archivo(file_descriptor):\n",
    "    file_descriptor.close()\n",
    "    \n",
    "def leer_archivo(IDs):\n",
    "    lineac = 50 * chr(0x2015)\n",
    "\n",
    "    # Abrimos el archivo y obtenemos el encabezado\n",
    "    f, encabezado = abrir_archivo()\n",
    "\n",
    "    # Construimos una lista vacía para almacenar \n",
    "    # la información de los IDs solicitados\n",
    "    IDs_lista = []\n",
    "\n",
    "    # Recorremos todo el archivo\n",
    "    for i, r in enumerate(f, start=1):\n",
    "\n",
    "        # Checamos si el id está en la lista de los solicitados\n",
    "        if i in IDs:\n",
    "\n",
    "            # En caso de que si sea uno de los solicitados\n",
    "            # vaciamos la información en un diccionario\n",
    "            dicc = transformar_datos(r, encabezado)\n",
    "        \n",
    "            # Presentamos la información en la pantalla\n",
    "            # con el formato requerido\n",
    "            desplegar_datos(dicc)\n",
    "\n",
    "            print(lineac)\n",
    "\n",
    "    # Cerramos el archivo\n",
    "    cerrar_archivo(f)\n",
    "\n",
    "def transformar_datos(r, e):\n",
    "    # Diccionario vacío para almancenar la información\n",
    "    dicc = {}\n",
    "\n",
    "    # Recorremos el renglón y extraemos el key y el value\n",
    "    for k, v in zip(e, r.split(',')):\n",
    "        dicc[k] = v # Agregamos la info al diccionario\n",
    "\n",
    "    # Corregimos la entrada 'TA' (para quitarle el cambio de línea)\n",
    "    dicc['TA'] = v[:-1]\n",
    "\n",
    "    # Regresamos el diccionario con la información\n",
    "    return dicc\n",
    "\n",
    "def desplegar_datos(d):\n",
    "    # Diccionario para los textos\n",
    "    dicc_e = dict(Pa = \"Paciente\", \n",
    "                  S = \"Sexo\",\n",
    "                  E = \"Edad\",\n",
    "                  Pe = \"Peso\",\n",
    "                  A = \"Estatura\",\n",
    "                  IMC = \"IMC\",\n",
    "                  Di = \"Diabetes\",\n",
    "                  H = \"Hipertensión\",\n",
    "                  De = \"Depresión\",\n",
    "                  TS = \"Trastorno del sueño\",\n",
    "                  TA = \"Trastorno de la alimentación\"\n",
    "                 )\n",
    "\n",
    "    # Recorremos el diccionario con la información\n",
    "    for k, v in d.items():\n",
    "        # Checamos el IMC\n",
    "        v_imc = ''\n",
    "        if k == 'IMC':\n",
    "            v_imc = calcular_nivel_IMC(float(v))\n",
    "\n",
    "        # Checamos si hay alguna alerta de salud\n",
    "        if v == 'Si' or v_imc == 'N4':            \n",
    "            print(Fore.RED + Style.BRIGHT + \\\n",
    "                  \"{:>30s} : {:^5s}\".format(dicc_e[k], str(v)) + \\\n",
    "                  Style.RESET_ALL)\n",
    "        else:\n",
    "            print(\"{:>30s} : {:^5s}\".format(dicc_e[k], str(v)))\n",
    "\n",
    "def calcular_nivel_IMC(imc):\n",
    "    if 18.5 > imc:\n",
    "        nivel = 'N1'\n",
    "    elif 18.5 <= imc and imc < 25.0:\n",
    "        nivel = 'N2'\n",
    "    elif 25.0 <= imc and imc < 30.0:\n",
    "        nivel = 'N3'\n",
    "    elif 30.0 <= imc:\n",
    "        nivel = 'N4'\n",
    "    return nivel\n",
    "\n",
    "\n",
    "def ejecutar():\n",
    "    leer_archivo(desplegar_pantalla_inicio())\n",
    "\n",
    "if __name__ == '__main__':\n",
    "    ejecutar()"
   ]
  },
  {
   "cell_type": "code",
   "execution_count": null,
   "id": "ebc27d55-2ad8-4a16-abc1-75d4aa516ae5",
   "metadata": {},
   "outputs": [],
   "source": []
  }
 ],
 "metadata": {
  "kernelspec": {
   "display_name": "Python 3 (ipykernel)",
   "language": "python",
   "name": "python3"
  },
  "language_info": {
   "codemirror_mode": {
    "name": "ipython",
    "version": 3
   },
   "file_extension": ".py",
   "mimetype": "text/x-python",
   "name": "python",
   "nbconvert_exporter": "python",
   "pygments_lexer": "ipython3",
   "version": "3.11.6"
  }
 },
 "nbformat": 4,
 "nbformat_minor": 5
}
